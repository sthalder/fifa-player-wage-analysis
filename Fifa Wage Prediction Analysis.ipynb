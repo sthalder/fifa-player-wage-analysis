{
 "cells": [
  {
   "cell_type": "code",
   "execution_count": 586,
   "metadata": {},
   "outputs": [],
   "source": [
    "## Code Header\n",
    "## Notebook Name: FIFA Wage Prediction Analysis\n",
    "## Objective: To understand how player attributes in association football lead to their weekly wages.\n",
    "## Start Date: 8th April, 2020\n",
    "## Data Sources\n",
    "    # Source: FIFA 18 Complete Player Dataset - https://www.kaggle.com/thec03u5/fifa-18-demo-player-dataset\n",
    "## Author(s): Soumya Halder\n",
    "## Edits to be made\n",
    "## Structure of the analysis\n",
    "    # Data Input: Read all the columns in the right format\n",
    "    # Data cleaning and preparation for the analysis\n",
    "    # EDA - Glean insights which might help design decisions\n",
    "    # SciKit Learn\n",
    "        # Linear Regression\n",
    "        # Trees\n",
    "    \n",
    "import pandas as pd\n",
    "import matplotlib.pyplot as plt\n",
    "import matplotlib.ticker as ticker\n",
    "%matplotlib inline\n",
    "import seaborn as sns\n",
    "import numpy as np\n",
    "from sklearn.model_selection import train_test_split\n",
    "import textstat\n",
    "import math\n",
    "import warnings\n",
    "warnings.filterwarnings('ignore')"
   ]
  },
  {
   "cell_type": "code",
   "execution_count": 587,
   "metadata": {},
   "outputs": [],
   "source": [
    "# Importing datasets which contains information about players attributes, personal data and position\n",
    "\n",
    "attribute = pd.read_csv('Project Data/PlayerAttributeData.csv')\n",
    "personal = pd.read_csv('Project Data/PlayerPersonalData.csv')\n",
    "position = pd.read_csv('Project Data/PlayerPlayingPositionData.csv');"
   ]
  },
  {
   "cell_type": "code",
   "execution_count": 588,
   "metadata": {},
   "outputs": [
    {
     "data": {
      "text/html": [
       "<div>\n",
       "<style scoped>\n",
       "    .dataframe tbody tr th:only-of-type {\n",
       "        vertical-align: middle;\n",
       "    }\n",
       "\n",
       "    .dataframe tbody tr th {\n",
       "        vertical-align: top;\n",
       "    }\n",
       "\n",
       "    .dataframe thead th {\n",
       "        text-align: right;\n",
       "    }\n",
       "</style>\n",
       "<table border=\"1\" class=\"dataframe\">\n",
       "  <thead>\n",
       "    <tr style=\"text-align: right;\">\n",
       "      <th></th>\n",
       "      <th>id_attribute</th>\n",
       "      <th>Acceleration</th>\n",
       "      <th>Aggression</th>\n",
       "      <th>Agility</th>\n",
       "      <th>Balance</th>\n",
       "      <th>Ball control</th>\n",
       "      <th>Composure</th>\n",
       "      <th>Crossing</th>\n",
       "      <th>Curve</th>\n",
       "      <th>Dribbling</th>\n",
       "      <th>...</th>\n",
       "      <th>Reactions</th>\n",
       "      <th>Short passing</th>\n",
       "      <th>Shot power</th>\n",
       "      <th>Sliding tackle</th>\n",
       "      <th>Sprint speed</th>\n",
       "      <th>Stamina</th>\n",
       "      <th>Standing tackle</th>\n",
       "      <th>Strength</th>\n",
       "      <th>Vision</th>\n",
       "      <th>Volleys</th>\n",
       "    </tr>\n",
       "  </thead>\n",
       "  <tbody>\n",
       "    <tr>\n",
       "      <th>0</th>\n",
       "      <td>0</td>\n",
       "      <td>89</td>\n",
       "      <td>63</td>\n",
       "      <td>89</td>\n",
       "      <td>63</td>\n",
       "      <td>93</td>\n",
       "      <td>95</td>\n",
       "      <td>85</td>\n",
       "      <td>81</td>\n",
       "      <td>91</td>\n",
       "      <td>...</td>\n",
       "      <td>96</td>\n",
       "      <td>83</td>\n",
       "      <td>94</td>\n",
       "      <td>23</td>\n",
       "      <td>91</td>\n",
       "      <td>92</td>\n",
       "      <td>31</td>\n",
       "      <td>80</td>\n",
       "      <td>85</td>\n",
       "      <td>88</td>\n",
       "    </tr>\n",
       "    <tr>\n",
       "      <th>1</th>\n",
       "      <td>1</td>\n",
       "      <td>92</td>\n",
       "      <td>48</td>\n",
       "      <td>90</td>\n",
       "      <td>95</td>\n",
       "      <td>95</td>\n",
       "      <td>96</td>\n",
       "      <td>77</td>\n",
       "      <td>89</td>\n",
       "      <td>97</td>\n",
       "      <td>...</td>\n",
       "      <td>95</td>\n",
       "      <td>88</td>\n",
       "      <td>85</td>\n",
       "      <td>26</td>\n",
       "      <td>87</td>\n",
       "      <td>73</td>\n",
       "      <td>28</td>\n",
       "      <td>59</td>\n",
       "      <td>90</td>\n",
       "      <td>85</td>\n",
       "    </tr>\n",
       "    <tr>\n",
       "      <th>2</th>\n",
       "      <td>2</td>\n",
       "      <td>94</td>\n",
       "      <td>56</td>\n",
       "      <td>96</td>\n",
       "      <td>82</td>\n",
       "      <td>95</td>\n",
       "      <td>92</td>\n",
       "      <td>75</td>\n",
       "      <td>81</td>\n",
       "      <td>96</td>\n",
       "      <td>...</td>\n",
       "      <td>88</td>\n",
       "      <td>81</td>\n",
       "      <td>80</td>\n",
       "      <td>33</td>\n",
       "      <td>90</td>\n",
       "      <td>78</td>\n",
       "      <td>24</td>\n",
       "      <td>53</td>\n",
       "      <td>80</td>\n",
       "      <td>83</td>\n",
       "    </tr>\n",
       "    <tr>\n",
       "      <th>3</th>\n",
       "      <td>3</td>\n",
       "      <td>88</td>\n",
       "      <td>78</td>\n",
       "      <td>86</td>\n",
       "      <td>60</td>\n",
       "      <td>91</td>\n",
       "      <td>83</td>\n",
       "      <td>77</td>\n",
       "      <td>86</td>\n",
       "      <td>86</td>\n",
       "      <td>...</td>\n",
       "      <td>93</td>\n",
       "      <td>83</td>\n",
       "      <td>87</td>\n",
       "      <td>38</td>\n",
       "      <td>77</td>\n",
       "      <td>89</td>\n",
       "      <td>45</td>\n",
       "      <td>80</td>\n",
       "      <td>84</td>\n",
       "      <td>88</td>\n",
       "    </tr>\n",
       "    <tr>\n",
       "      <th>4</th>\n",
       "      <td>4</td>\n",
       "      <td>58</td>\n",
       "      <td>29</td>\n",
       "      <td>52</td>\n",
       "      <td>35</td>\n",
       "      <td>48</td>\n",
       "      <td>70</td>\n",
       "      <td>15</td>\n",
       "      <td>14</td>\n",
       "      <td>30</td>\n",
       "      <td>...</td>\n",
       "      <td>85</td>\n",
       "      <td>55</td>\n",
       "      <td>25</td>\n",
       "      <td>11</td>\n",
       "      <td>61</td>\n",
       "      <td>44</td>\n",
       "      <td>10</td>\n",
       "      <td>83</td>\n",
       "      <td>70</td>\n",
       "      <td>11</td>\n",
       "    </tr>\n",
       "  </tbody>\n",
       "</table>\n",
       "<p>5 rows × 36 columns</p>\n",
       "</div>"
      ],
      "text/plain": [
       "   id_attribute Acceleration Aggression Agility Balance Ball control  \\\n",
       "0             0           89         63      89      63           93   \n",
       "1             1           92         48      90      95           95   \n",
       "2             2           94         56      96      82           95   \n",
       "3             3           88         78      86      60           91   \n",
       "4             4           58         29      52      35           48   \n",
       "\n",
       "  Composure Crossing Curve Dribbling  ... Reactions Short passing Shot power  \\\n",
       "0        95       85    81        91  ...        96            83         94   \n",
       "1        96       77    89        97  ...        95            88         85   \n",
       "2        92       75    81        96  ...        88            81         80   \n",
       "3        83       77    86        86  ...        93            83         87   \n",
       "4        70       15    14        30  ...        85            55         25   \n",
       "\n",
       "  Sliding tackle Sprint speed Stamina Standing tackle Strength  Vision Volleys  \n",
       "0             23           91      92              31       80      85      88  \n",
       "1             26           87      73              28       59      90      85  \n",
       "2             33           90      78              24       53      80      83  \n",
       "3             38           77      89              45       80      84      88  \n",
       "4             11           61      44              10       83      70      11  \n",
       "\n",
       "[5 rows x 36 columns]"
      ]
     },
     "execution_count": 588,
     "metadata": {},
     "output_type": "execute_result"
    }
   ],
   "source": [
    "attribute.head()"
   ]
  },
  {
   "cell_type": "code",
   "execution_count": 589,
   "metadata": {},
   "outputs": [],
   "source": [
    "# Correcting datatypes for attribute df\n",
    "attribute.dtypes;\n",
    "attribute = attribute.convert_objects(convert_numeric = True);"
   ]
  },
  {
   "cell_type": "code",
   "execution_count": 590,
   "metadata": {},
   "outputs": [
    {
     "data": {
      "text/html": [
       "<div>\n",
       "<style scoped>\n",
       "    .dataframe tbody tr th:only-of-type {\n",
       "        vertical-align: middle;\n",
       "    }\n",
       "\n",
       "    .dataframe tbody tr th {\n",
       "        vertical-align: top;\n",
       "    }\n",
       "\n",
       "    .dataframe thead th {\n",
       "        text-align: right;\n",
       "    }\n",
       "</style>\n",
       "<table border=\"1\" class=\"dataframe\">\n",
       "  <thead>\n",
       "    <tr style=\"text-align: right;\">\n",
       "      <th></th>\n",
       "      <th>id_personal</th>\n",
       "      <th>ID</th>\n",
       "      <th>Name</th>\n",
       "      <th>Age</th>\n",
       "      <th>Photo</th>\n",
       "      <th>Nationality</th>\n",
       "      <th>Flag</th>\n",
       "      <th>Overall</th>\n",
       "      <th>Potential</th>\n",
       "      <th>Club</th>\n",
       "      <th>Club Logo</th>\n",
       "      <th>Value</th>\n",
       "      <th>Wage</th>\n",
       "      <th>Special</th>\n",
       "    </tr>\n",
       "  </thead>\n",
       "  <tbody>\n",
       "    <tr>\n",
       "      <th>0</th>\n",
       "      <td>0</td>\n",
       "      <td>20801</td>\n",
       "      <td>Cristiano Ronaldo</td>\n",
       "      <td>32</td>\n",
       "      <td>https://cdn.sofifa.org/48/18/players/20801.png</td>\n",
       "      <td>Portugal</td>\n",
       "      <td>https://cdn.sofifa.org/flags/38.png</td>\n",
       "      <td>94</td>\n",
       "      <td>94</td>\n",
       "      <td>Real Madrid CF</td>\n",
       "      <td>https://cdn.sofifa.org/24/18/teams/243.png</td>\n",
       "      <td>€95.5M</td>\n",
       "      <td>€565K</td>\n",
       "      <td>2228</td>\n",
       "    </tr>\n",
       "    <tr>\n",
       "      <th>1</th>\n",
       "      <td>1</td>\n",
       "      <td>158023</td>\n",
       "      <td>L. Messi</td>\n",
       "      <td>30</td>\n",
       "      <td>https://cdn.sofifa.org/48/18/players/158023.png</td>\n",
       "      <td>Argentina</td>\n",
       "      <td>https://cdn.sofifa.org/flags/52.png</td>\n",
       "      <td>93</td>\n",
       "      <td>93</td>\n",
       "      <td>FC Barcelona</td>\n",
       "      <td>https://cdn.sofifa.org/24/18/teams/241.png</td>\n",
       "      <td>€105M</td>\n",
       "      <td>€565K</td>\n",
       "      <td>2154</td>\n",
       "    </tr>\n",
       "    <tr>\n",
       "      <th>2</th>\n",
       "      <td>2</td>\n",
       "      <td>190871</td>\n",
       "      <td>Neymar</td>\n",
       "      <td>25</td>\n",
       "      <td>https://cdn.sofifa.org/48/18/players/190871.png</td>\n",
       "      <td>Brazil</td>\n",
       "      <td>https://cdn.sofifa.org/flags/54.png</td>\n",
       "      <td>92</td>\n",
       "      <td>94</td>\n",
       "      <td>Paris Saint-Germain</td>\n",
       "      <td>https://cdn.sofifa.org/24/18/teams/73.png</td>\n",
       "      <td>€123M</td>\n",
       "      <td>€280K</td>\n",
       "      <td>2100</td>\n",
       "    </tr>\n",
       "    <tr>\n",
       "      <th>3</th>\n",
       "      <td>3</td>\n",
       "      <td>176580</td>\n",
       "      <td>L. Suárez</td>\n",
       "      <td>30</td>\n",
       "      <td>https://cdn.sofifa.org/48/18/players/176580.png</td>\n",
       "      <td>Uruguay</td>\n",
       "      <td>https://cdn.sofifa.org/flags/60.png</td>\n",
       "      <td>92</td>\n",
       "      <td>92</td>\n",
       "      <td>FC Barcelona</td>\n",
       "      <td>https://cdn.sofifa.org/24/18/teams/241.png</td>\n",
       "      <td>€97M</td>\n",
       "      <td>€510K</td>\n",
       "      <td>2291</td>\n",
       "    </tr>\n",
       "    <tr>\n",
       "      <th>4</th>\n",
       "      <td>4</td>\n",
       "      <td>167495</td>\n",
       "      <td>M. Neuer</td>\n",
       "      <td>31</td>\n",
       "      <td>https://cdn.sofifa.org/48/18/players/167495.png</td>\n",
       "      <td>Germany</td>\n",
       "      <td>https://cdn.sofifa.org/flags/21.png</td>\n",
       "      <td>92</td>\n",
       "      <td>92</td>\n",
       "      <td>FC Bayern Munich</td>\n",
       "      <td>https://cdn.sofifa.org/24/18/teams/21.png</td>\n",
       "      <td>€61M</td>\n",
       "      <td>€230K</td>\n",
       "      <td>1493</td>\n",
       "    </tr>\n",
       "  </tbody>\n",
       "</table>\n",
       "</div>"
      ],
      "text/plain": [
       "   id_personal      ID               Name  Age  \\\n",
       "0            0   20801  Cristiano Ronaldo   32   \n",
       "1            1  158023           L. Messi   30   \n",
       "2            2  190871             Neymar   25   \n",
       "3            3  176580          L. Suárez   30   \n",
       "4            4  167495           M. Neuer   31   \n",
       "\n",
       "                                             Photo Nationality  \\\n",
       "0   https://cdn.sofifa.org/48/18/players/20801.png    Portugal   \n",
       "1  https://cdn.sofifa.org/48/18/players/158023.png   Argentina   \n",
       "2  https://cdn.sofifa.org/48/18/players/190871.png      Brazil   \n",
       "3  https://cdn.sofifa.org/48/18/players/176580.png     Uruguay   \n",
       "4  https://cdn.sofifa.org/48/18/players/167495.png     Germany   \n",
       "\n",
       "                                  Flag  Overall  Potential  \\\n",
       "0  https://cdn.sofifa.org/flags/38.png       94         94   \n",
       "1  https://cdn.sofifa.org/flags/52.png       93         93   \n",
       "2  https://cdn.sofifa.org/flags/54.png       92         94   \n",
       "3  https://cdn.sofifa.org/flags/60.png       92         92   \n",
       "4  https://cdn.sofifa.org/flags/21.png       92         92   \n",
       "\n",
       "                  Club                                   Club Logo   Value  \\\n",
       "0       Real Madrid CF  https://cdn.sofifa.org/24/18/teams/243.png  €95.5M   \n",
       "1         FC Barcelona  https://cdn.sofifa.org/24/18/teams/241.png   €105M   \n",
       "2  Paris Saint-Germain   https://cdn.sofifa.org/24/18/teams/73.png   €123M   \n",
       "3         FC Barcelona  https://cdn.sofifa.org/24/18/teams/241.png    €97M   \n",
       "4     FC Bayern Munich   https://cdn.sofifa.org/24/18/teams/21.png    €61M   \n",
       "\n",
       "    Wage  Special  \n",
       "0  €565K     2228  \n",
       "1  €565K     2154  \n",
       "2  €280K     2100  \n",
       "3  €510K     2291  \n",
       "4  €230K     1493  "
      ]
     },
     "execution_count": 590,
     "metadata": {},
     "output_type": "execute_result"
    }
   ],
   "source": [
    "personal.head()"
   ]
  },
  {
   "cell_type": "code",
   "execution_count": 591,
   "metadata": {},
   "outputs": [],
   "source": [
    "personal.dtypes;"
   ]
  },
  {
   "cell_type": "code",
   "execution_count": 592,
   "metadata": {},
   "outputs": [
    {
     "data": {
      "text/html": [
       "<div>\n",
       "<style scoped>\n",
       "    .dataframe tbody tr th:only-of-type {\n",
       "        vertical-align: middle;\n",
       "    }\n",
       "\n",
       "    .dataframe tbody tr th {\n",
       "        vertical-align: top;\n",
       "    }\n",
       "\n",
       "    .dataframe thead th {\n",
       "        text-align: right;\n",
       "    }\n",
       "</style>\n",
       "<table border=\"1\" class=\"dataframe\">\n",
       "  <thead>\n",
       "    <tr style=\"text-align: right;\">\n",
       "      <th></th>\n",
       "      <th>id_position</th>\n",
       "      <th>CAM</th>\n",
       "      <th>CB</th>\n",
       "      <th>CDM</th>\n",
       "      <th>CF</th>\n",
       "      <th>CM</th>\n",
       "      <th>ID</th>\n",
       "      <th>LAM</th>\n",
       "      <th>LB</th>\n",
       "      <th>LCB</th>\n",
       "      <th>...</th>\n",
       "      <th>RB</th>\n",
       "      <th>RCB</th>\n",
       "      <th>RCM</th>\n",
       "      <th>RDM</th>\n",
       "      <th>RF</th>\n",
       "      <th>RM</th>\n",
       "      <th>RS</th>\n",
       "      <th>RW</th>\n",
       "      <th>RWB</th>\n",
       "      <th>ST</th>\n",
       "    </tr>\n",
       "  </thead>\n",
       "  <tbody>\n",
       "    <tr>\n",
       "      <th>0</th>\n",
       "      <td>0</td>\n",
       "      <td>89.0</td>\n",
       "      <td>53.0</td>\n",
       "      <td>62.0</td>\n",
       "      <td>91.0</td>\n",
       "      <td>82.0</td>\n",
       "      <td>20801</td>\n",
       "      <td>89.0</td>\n",
       "      <td>61.0</td>\n",
       "      <td>53.0</td>\n",
       "      <td>...</td>\n",
       "      <td>61.0</td>\n",
       "      <td>53.0</td>\n",
       "      <td>82.0</td>\n",
       "      <td>62.0</td>\n",
       "      <td>91.0</td>\n",
       "      <td>89.0</td>\n",
       "      <td>92.0</td>\n",
       "      <td>91.0</td>\n",
       "      <td>66.0</td>\n",
       "      <td>92.0</td>\n",
       "    </tr>\n",
       "    <tr>\n",
       "      <th>1</th>\n",
       "      <td>1</td>\n",
       "      <td>92.0</td>\n",
       "      <td>45.0</td>\n",
       "      <td>59.0</td>\n",
       "      <td>92.0</td>\n",
       "      <td>84.0</td>\n",
       "      <td>158023</td>\n",
       "      <td>92.0</td>\n",
       "      <td>57.0</td>\n",
       "      <td>45.0</td>\n",
       "      <td>...</td>\n",
       "      <td>57.0</td>\n",
       "      <td>45.0</td>\n",
       "      <td>84.0</td>\n",
       "      <td>59.0</td>\n",
       "      <td>92.0</td>\n",
       "      <td>90.0</td>\n",
       "      <td>88.0</td>\n",
       "      <td>91.0</td>\n",
       "      <td>62.0</td>\n",
       "      <td>88.0</td>\n",
       "    </tr>\n",
       "    <tr>\n",
       "      <th>2</th>\n",
       "      <td>2</td>\n",
       "      <td>88.0</td>\n",
       "      <td>46.0</td>\n",
       "      <td>59.0</td>\n",
       "      <td>88.0</td>\n",
       "      <td>79.0</td>\n",
       "      <td>190871</td>\n",
       "      <td>88.0</td>\n",
       "      <td>59.0</td>\n",
       "      <td>46.0</td>\n",
       "      <td>...</td>\n",
       "      <td>59.0</td>\n",
       "      <td>46.0</td>\n",
       "      <td>79.0</td>\n",
       "      <td>59.0</td>\n",
       "      <td>88.0</td>\n",
       "      <td>87.0</td>\n",
       "      <td>84.0</td>\n",
       "      <td>89.0</td>\n",
       "      <td>64.0</td>\n",
       "      <td>84.0</td>\n",
       "    </tr>\n",
       "    <tr>\n",
       "      <th>3</th>\n",
       "      <td>3</td>\n",
       "      <td>87.0</td>\n",
       "      <td>58.0</td>\n",
       "      <td>65.0</td>\n",
       "      <td>88.0</td>\n",
       "      <td>80.0</td>\n",
       "      <td>176580</td>\n",
       "      <td>87.0</td>\n",
       "      <td>64.0</td>\n",
       "      <td>58.0</td>\n",
       "      <td>...</td>\n",
       "      <td>64.0</td>\n",
       "      <td>58.0</td>\n",
       "      <td>80.0</td>\n",
       "      <td>65.0</td>\n",
       "      <td>88.0</td>\n",
       "      <td>85.0</td>\n",
       "      <td>88.0</td>\n",
       "      <td>87.0</td>\n",
       "      <td>68.0</td>\n",
       "      <td>88.0</td>\n",
       "    </tr>\n",
       "    <tr>\n",
       "      <th>4</th>\n",
       "      <td>4</td>\n",
       "      <td>NaN</td>\n",
       "      <td>NaN</td>\n",
       "      <td>NaN</td>\n",
       "      <td>NaN</td>\n",
       "      <td>NaN</td>\n",
       "      <td>167495</td>\n",
       "      <td>NaN</td>\n",
       "      <td>NaN</td>\n",
       "      <td>NaN</td>\n",
       "      <td>...</td>\n",
       "      <td>NaN</td>\n",
       "      <td>NaN</td>\n",
       "      <td>NaN</td>\n",
       "      <td>NaN</td>\n",
       "      <td>NaN</td>\n",
       "      <td>NaN</td>\n",
       "      <td>NaN</td>\n",
       "      <td>NaN</td>\n",
       "      <td>NaN</td>\n",
       "      <td>NaN</td>\n",
       "    </tr>\n",
       "  </tbody>\n",
       "</table>\n",
       "<p>5 rows × 29 columns</p>\n",
       "</div>"
      ],
      "text/plain": [
       "   id_position   CAM    CB   CDM    CF    CM      ID   LAM    LB   LCB  ...  \\\n",
       "0            0  89.0  53.0  62.0  91.0  82.0   20801  89.0  61.0  53.0  ...   \n",
       "1            1  92.0  45.0  59.0  92.0  84.0  158023  92.0  57.0  45.0  ...   \n",
       "2            2  88.0  46.0  59.0  88.0  79.0  190871  88.0  59.0  46.0  ...   \n",
       "3            3  87.0  58.0  65.0  88.0  80.0  176580  87.0  64.0  58.0  ...   \n",
       "4            4   NaN   NaN   NaN   NaN   NaN  167495   NaN   NaN   NaN  ...   \n",
       "\n",
       "     RB   RCB   RCM   RDM    RF    RM    RS    RW   RWB    ST  \n",
       "0  61.0  53.0  82.0  62.0  91.0  89.0  92.0  91.0  66.0  92.0  \n",
       "1  57.0  45.0  84.0  59.0  92.0  90.0  88.0  91.0  62.0  88.0  \n",
       "2  59.0  46.0  79.0  59.0  88.0  87.0  84.0  89.0  64.0  84.0  \n",
       "3  64.0  58.0  80.0  65.0  88.0  85.0  88.0  87.0  68.0  88.0  \n",
       "4   NaN   NaN   NaN   NaN   NaN   NaN   NaN   NaN   NaN   NaN  \n",
       "\n",
       "[5 rows x 29 columns]"
      ]
     },
     "execution_count": 592,
     "metadata": {},
     "output_type": "execute_result"
    }
   ],
   "source": [
    "position.head()"
   ]
  },
  {
   "cell_type": "code",
   "execution_count": 593,
   "metadata": {},
   "outputs": [],
   "source": [
    "position.dtypes;"
   ]
  },
  {
   "cell_type": "code",
   "execution_count": 594,
   "metadata": {},
   "outputs": [
    {
     "data": {
      "text/plain": [
       "(17981, 43)"
      ]
     },
     "execution_count": 594,
     "metadata": {},
     "output_type": "execute_result"
    }
   ],
   "source": [
    "# Joining 2 datasets at a time - personal & position\n",
    "fifa_pp = pd.merge(personal, position, left_on = ['id_personal'], right_on = ['id_position'], how = 'inner')\n",
    "fifa_pp.shape"
   ]
  },
  {
   "cell_type": "code",
   "execution_count": 595,
   "metadata": {},
   "outputs": [
    {
     "data": {
      "text/plain": [
       "(17981, 79)"
      ]
     },
     "execution_count": 595,
     "metadata": {},
     "output_type": "execute_result"
    }
   ],
   "source": [
    "# Joining the above result with the 3rd table attribute\n",
    "fifa_ppa = pd.merge(fifa_pp, attribute, left_on = ['id_personal'], right_on = ['id_attribute'], how = 'inner')\n",
    "fifa_ppa.shape"
   ]
  },
  {
   "cell_type": "code",
   "execution_count": 596,
   "metadata": {},
   "outputs": [],
   "source": [
    "# Split preferred postion column to get the primary playing position for a player\n",
    "fifa_splitcol = fifa_ppa['Preferred Positions'].str.split(' ', n = 2, expand=True)\n",
    "\n",
    "# Adding the column to main dataset\n",
    "fifa_ppa['Position'] = fifa_splitcol[0]\n",
    "\n",
    "# Dropping original column from main dataset\n",
    "fifa_ppa.drop(columns = ['Preferred Positions'], inplace = True) "
   ]
  },
  {
   "cell_type": "code",
   "execution_count": 597,
   "metadata": {},
   "outputs": [
    {
     "data": {
      "text/plain": [
       "array(['ST', 'RW', 'LW', 'GK', 'CDM', 'CB', 'RM', 'CM', 'LM', 'LB', 'CAM',\n",
       "       'RB', 'CF', 'RWB', 'LWB'], dtype=object)"
      ]
     },
     "execution_count": 597,
     "metadata": {},
     "output_type": "execute_result"
    }
   ],
   "source": [
    "# Getting all unique values from the new column\n",
    "fifa_ppa['Position'].unique()"
   ]
  },
  {
   "cell_type": "code",
   "execution_count": 598,
   "metadata": {},
   "outputs": [],
   "source": [
    "# Combining all positions into 4 major categories - goalkeeper, defender, midfielder, attacker\n",
    "def player_pos (row):\n",
    "    if row['Position'] == 'GK':\n",
    "        return 'GK'\n",
    "    if row['Position'] == 'CB' or row['Position'] == 'LB' or row['Position'] == 'RB' or row['Position'] == 'RWB' or row['Position'] == 'LWB':\n",
    "        return 'DF'\n",
    "    if row['Position'] == 'CM' or row['Position'] == 'RM' or row['Position'] == 'LM' or row['Position'] == 'CAM' or row['Position'] == 'CDM':\n",
    "        return 'MF'\n",
    "    return 'AT'\n",
    "\n",
    "fifa_ppa['Playing Position'] = fifa_ppa.apply(lambda row: player_pos(row), axis=1)"
   ]
  },
  {
   "cell_type": "code",
   "execution_count": 599,
   "metadata": {},
   "outputs": [],
   "source": [
    "# Converting the Wage & Value column into numeric data type\n",
    "def convert_into_currency (value):\n",
    "    out = value.replace('€', '')\n",
    "    if 'M' in out:\n",
    "        out = float(out.replace('M', ''))*1000000\n",
    "    elif 'K' in value:\n",
    "        out = float(out.replace('K', ''))*1000\n",
    "    return float(out)\n",
    "\n",
    "fifa_ppa['Value'] = fifa_ppa['Value'].apply(lambda x: convert_into_currency(x))\n",
    "fifa_ppa['Wage'] = fifa_ppa['Wage'].apply(lambda x: convert_into_currency(x))"
   ]
  },
  {
   "cell_type": "code",
   "execution_count": 600,
   "metadata": {},
   "outputs": [
    {
     "name": "stdout",
     "output_type": "stream",
     "text": [
      "Length of DF dataset with NaN: 17981\n"
     ]
    }
   ],
   "source": [
    "# Length of the dataset\n",
    "print('Length of DF dataset with NaN:', len(fifa_ppa))"
   ]
  },
  {
   "cell_type": "code",
   "execution_count": 601,
   "metadata": {},
   "outputs": [
    {
     "data": {
      "text/html": [
       "<div>\n",
       "<style scoped>\n",
       "    .dataframe tbody tr th:only-of-type {\n",
       "        vertical-align: middle;\n",
       "    }\n",
       "\n",
       "    .dataframe tbody tr th {\n",
       "        vertical-align: top;\n",
       "    }\n",
       "\n",
       "    .dataframe thead tr th {\n",
       "        text-align: left;\n",
       "    }\n",
       "\n",
       "    .dataframe thead tr:last-of-type th {\n",
       "        text-align: right;\n",
       "    }\n",
       "</style>\n",
       "<table border=\"1\" class=\"dataframe\">\n",
       "  <thead>\n",
       "    <tr>\n",
       "      <th></th>\n",
       "      <th>id_personal</th>\n",
       "    </tr>\n",
       "    <tr>\n",
       "      <th></th>\n",
       "      <th>count</th>\n",
       "    </tr>\n",
       "    <tr>\n",
       "      <th>Playing Position</th>\n",
       "      <th></th>\n",
       "    </tr>\n",
       "  </thead>\n",
       "  <tbody>\n",
       "    <tr>\n",
       "      <th>AT</th>\n",
       "      <td>3338</td>\n",
       "    </tr>\n",
       "    <tr>\n",
       "      <th>DF</th>\n",
       "      <td>5440</td>\n",
       "    </tr>\n",
       "    <tr>\n",
       "      <th>GK</th>\n",
       "      <td>2029</td>\n",
       "    </tr>\n",
       "    <tr>\n",
       "      <th>MF</th>\n",
       "      <td>7174</td>\n",
       "    </tr>\n",
       "  </tbody>\n",
       "</table>\n",
       "</div>"
      ],
      "text/plain": [
       "                 id_personal\n",
       "                       count\n",
       "Playing Position            \n",
       "AT                      3338\n",
       "DF                      5440\n",
       "GK                      2029\n",
       "MF                      7174"
      ]
     },
     "execution_count": 601,
     "metadata": {},
     "output_type": "execute_result"
    }
   ],
   "source": [
    "fifa_ppa.groupby('Playing Position').agg({'id_personal' : ['count']})"
   ]
  },
  {
   "cell_type": "code",
   "execution_count": 602,
   "metadata": {},
   "outputs": [],
   "source": [
    "# Creating subsets of the data by playing positions\n",
    "fifa_gk = fifa_ppa.loc[fifa_ppa['Playing Position'] == 'GK']\n",
    "fifa_df = fifa_ppa.loc[fifa_ppa['Playing Position'] == 'DF']\n",
    "fifa_mf = fifa_ppa.loc[fifa_ppa['Playing Position'] == 'MF']\n",
    "fifa_at = fifa_ppa.loc[fifa_ppa['Playing Position'] == 'AT']"
   ]
  },
  {
   "cell_type": "code",
   "execution_count": 603,
   "metadata": {},
   "outputs": [],
   "source": [
    "fifa_gk.isna().sum();\n",
    "fifa_df.isna().sum();\n",
    "fifa_mf.isna().sum();\n",
    "fifa_at.isna().sum();"
   ]
  },
  {
   "cell_type": "code",
   "execution_count": 604,
   "metadata": {},
   "outputs": [
    {
     "name": "stdout",
     "output_type": "stream",
     "text": [
      "Length of DF dataset after removing NaN: 15148\n"
     ]
    }
   ],
   "source": [
    "# Removing addtional columns and drop rows with NaN values\n",
    "fifa18 = fifa_ppa.drop(['ID_x', 'Photo', 'Flag', 'Club Logo', 'Special', 'id_position', 'ID_y', 'id_attribute', 'GK diving', 'GK handling', 'GK kicking',\n",
    "                        'GK positioning', 'GK reflexes', 'ID'], axis = 1)\n",
    "\n",
    "fifa18.dropna(inplace = True)\n",
    "fifa18.reset_index()\n",
    "print('Length of DF dataset after removing NaN:', len(fifa18))"
   ]
  },
  {
   "cell_type": "code",
   "execution_count": 605,
   "metadata": {},
   "outputs": [
    {
     "data": {
      "image/png": "[encoded data removed]",
      "text/plain": [
       "<Figure size 864x576 with 1 Axes>"
      ]
     },
     "metadata": {
      "needs_background": "light"
     },
     "output_type": "display_data"
    }
   ],
   "source": [
    "# Distribution of age\n",
    "plt.figure(figsize = (12,8))\n",
    "sns.set_style('whitegrid')\n",
    "plt.title('Age distribution of players', fontsize = 20, fontweight = 'bold', y = 1.05,)\n",
    "sns.countplot(x = 'Age', data = fifa18, palette = 'hls');\n",
    "plt.xlabel('Age', fontsize = 15)\n",
    "plt.ylabel('Number of players', fontsize = 15)\n",
    "plt.show();"
   ]
  },
  {
   "cell_type": "code",
   "execution_count": 606,
   "metadata": {},
   "outputs": [
    {
     "data": {
      "image/png": "[encoded data removed]",
      "text/plain": [
       "<Figure size 864x576 with 1 Axes>"
      ]
     },
     "metadata": {},
     "output_type": "display_data"
    }
   ],
   "source": [
    "# Distribution of Overall Rating\n",
    "plt.figure(figsize = (12,8))\n",
    "sns.set_style('whitegrid')\n",
    "plt.title('Overall rating distribution of players', fontsize = 20, fontweight = 'bold', y = 1.05,)\n",
    "sns.countplot(x = 'Overall', data = fifa18, palette = 'hls');\n",
    "plt.xlabel('Overall Rating', fontsize = 15)\n",
    "plt.ylabel('Number of players', fontsize = 15)\n",
    "plt.show();"
   ]
  },
  {
   "cell_type": "code",
   "execution_count": 607,
   "metadata": {},
   "outputs": [
    {
     "data": {
      "image/png": "[encoded data removed]",
      "text/plain": [
       "<Figure size 864x576 with 1 Axes>"
      ]
     },
     "metadata": {},
     "output_type": "display_data"
    }
   ],
   "source": [
    "# Distribution of Overall Rating\n",
    "plt.figure(figsize = (12,8))\n",
    "sns.set_style('whitegrid')\n",
    "plt.title('Wage distribution by players', fontsize = 20, fontweight = 'bold', y = 1.05,)\n",
    "sns.boxplot(x = 'Wage', data = fifa18, palette = 'hls', orient = 'v');\n",
    "plt.ylabel('Wage', fontsize = 15)\n",
    "plt.show();"
   ]
  },
  {
   "cell_type": "code",
   "execution_count": 608,
   "metadata": {},
   "outputs": [
    {
     "data": {
      "image/png": "[encoded data removed]",
      "text/plain": [
       "<Figure size 864x576 with 1 Axes>"
      ]
     },
     "metadata": {},
     "output_type": "display_data"
    }
   ],
   "source": [
    "# Distribution of Wages\n",
    "plt.figure(figsize = (12,8))\n",
    "sns.set_style('whitegrid')\n",
    "plt.title('Age vs Overall distribution', fontsize = 20, fontweight = 'bold', y = 1.05,)\n",
    "sns.scatterplot(x = 'Age', y = 'Overall', data = fifa18, palette = 'hls');\n",
    "plt.xlabel('Age', fontsize = 15)\n",
    "plt.ylabel('Overall Rating', fontsize = 15)\n",
    "plt.show();"
   ]
  },
  {
   "cell_type": "code",
   "execution_count": 609,
   "metadata": {},
   "outputs": [
    {
     "data": {
      "image/png": "[encoded data removed]",
      "text/plain": [
       "<Figure size 864x576 with 1 Axes>"
      ]
     },
     "metadata": {},
     "output_type": "display_data"
    }
   ],
   "source": [
    "# Distribution of Wages\n",
    "plt.figure(figsize = (12,8))\n",
    "sns.set_style('whitegrid')\n",
    "plt.title('Age vs Wage distribution', fontsize = 20, fontweight = 'bold', y = 1.05,)\n",
    "sns.scatterplot(x = 'Age', y = 'Wage', data = fifa18, palette = 'hls');\n",
    "plt.xlabel('Age', fontsize = 15)\n",
    "plt.ylabel('Wages', fontsize = 15)\n",
    "plt.show();"
   ]
  },
  {
   "cell_type": "code",
   "execution_count": 610,
   "metadata": {},
   "outputs": [
    {
     "data": {
      "image/png": "[encoded data removed]",
      "text/plain": [
       "<Figure size 864x576 with 1 Axes>"
      ]
     },
     "metadata": {},
     "output_type": "display_data"
    }
   ],
   "source": [
    "# Distribution of Wages\n",
    "plt.figure(figsize = (12,8))\n",
    "sns.set_style('whitegrid')\n",
    "plt.title('Wage vs Overall distribution', fontsize = 20, fontweight = 'bold', y = 1.05,)\n",
    "sns.scatterplot(x = 'Overall', y = 'Wage', data = fifa18, palette = 'hls');\n",
    "plt.xlabel('Overall Rating', fontsize = 15)\n",
    "plt.ylabel('Wages', fontsize = 15)\n",
    "plt.show();"
   ]
  },
  {
   "cell_type": "code",
   "execution_count": 611,
   "metadata": {},
   "outputs": [
    {
     "data": {
      "text/html": [
       "<div>\n",
       "<style scoped>\n",
       "    .dataframe tbody tr th:only-of-type {\n",
       "        vertical-align: middle;\n",
       "    }\n",
       "\n",
       "    .dataframe tbody tr th {\n",
       "        vertical-align: top;\n",
       "    }\n",
       "\n",
       "    .dataframe thead th {\n",
       "        text-align: right;\n",
       "    }\n",
       "</style>\n",
       "<table border=\"1\" class=\"dataframe\">\n",
       "  <thead>\n",
       "    <tr style=\"text-align: right;\">\n",
       "      <th></th>\n",
       "      <th>Club</th>\n",
       "      <th>Total_Wage</th>\n",
       "      <th>Average_Wage</th>\n",
       "      <th>Minimum Wage</th>\n",
       "      <th>Maximum Wage</th>\n",
       "      <th>Std Dev</th>\n",
       "      <th>Player Count</th>\n",
       "    </tr>\n",
       "  </thead>\n",
       "  <tbody>\n",
       "    <tr>\n",
       "      <th>0</th>\n",
       "      <td>FC Barcelona</td>\n",
       "      <td>4465000.0</td>\n",
       "      <td>202955.0</td>\n",
       "      <td>120000.0</td>\n",
       "      <td>565000.0</td>\n",
       "      <td>118448.89</td>\n",
       "      <td>22</td>\n",
       "    </tr>\n",
       "    <tr>\n",
       "      <th>1</th>\n",
       "      <td>Real Madrid CF</td>\n",
       "      <td>4456000.0</td>\n",
       "      <td>193739.0</td>\n",
       "      <td>22000.0</td>\n",
       "      <td>565000.0</td>\n",
       "      <td>132784.59</td>\n",
       "      <td>23</td>\n",
       "    </tr>\n",
       "    <tr>\n",
       "      <th>2</th>\n",
       "      <td>FC Bayern Munich</td>\n",
       "      <td>2969000.0</td>\n",
       "      <td>129087.0</td>\n",
       "      <td>7000.0</td>\n",
       "      <td>355000.0</td>\n",
       "      <td>93907.07</td>\n",
       "      <td>23</td>\n",
       "    </tr>\n",
       "    <tr>\n",
       "      <th>3</th>\n",
       "      <td>Manchester City</td>\n",
       "      <td>2950000.0</td>\n",
       "      <td>98333.0</td>\n",
       "      <td>5000.0</td>\n",
       "      <td>325000.0</td>\n",
       "      <td>85771.68</td>\n",
       "      <td>30</td>\n",
       "    </tr>\n",
       "    <tr>\n",
       "      <th>4</th>\n",
       "      <td>Juventus</td>\n",
       "      <td>2931000.0</td>\n",
       "      <td>127435.0</td>\n",
       "      <td>37000.0</td>\n",
       "      <td>275000.0</td>\n",
       "      <td>58542.78</td>\n",
       "      <td>23</td>\n",
       "    </tr>\n",
       "    <tr>\n",
       "      <th>5</th>\n",
       "      <td>Arsenal</td>\n",
       "      <td>2824000.0</td>\n",
       "      <td>91097.0</td>\n",
       "      <td>6000.0</td>\n",
       "      <td>265000.0</td>\n",
       "      <td>70181.36</td>\n",
       "      <td>31</td>\n",
       "    </tr>\n",
       "    <tr>\n",
       "      <th>6</th>\n",
       "      <td>Manchester United</td>\n",
       "      <td>2821000.0</td>\n",
       "      <td>112840.0</td>\n",
       "      <td>10000.0</td>\n",
       "      <td>240000.0</td>\n",
       "      <td>66385.04</td>\n",
       "      <td>25</td>\n",
       "    </tr>\n",
       "    <tr>\n",
       "      <th>7</th>\n",
       "      <td>Chelsea</td>\n",
       "      <td>2766000.0</td>\n",
       "      <td>125727.0</td>\n",
       "      <td>4000.0</td>\n",
       "      <td>295000.0</td>\n",
       "      <td>82604.15</td>\n",
       "      <td>22</td>\n",
       "    </tr>\n",
       "    <tr>\n",
       "      <th>8</th>\n",
       "      <td>Everton</td>\n",
       "      <td>2320000.0</td>\n",
       "      <td>77333.0</td>\n",
       "      <td>6000.0</td>\n",
       "      <td>130000.0</td>\n",
       "      <td>41359.93</td>\n",
       "      <td>30</td>\n",
       "    </tr>\n",
       "    <tr>\n",
       "      <th>9</th>\n",
       "      <td>Liverpool</td>\n",
       "      <td>2076000.0</td>\n",
       "      <td>90261.0</td>\n",
       "      <td>11000.0</td>\n",
       "      <td>205000.0</td>\n",
       "      <td>54631.17</td>\n",
       "      <td>23</td>\n",
       "    </tr>\n",
       "  </tbody>\n",
       "</table>\n",
       "</div>"
      ],
      "text/plain": [
       "                Club  Total_Wage  Average_Wage  Minimum Wage  Maximum Wage  \\\n",
       "0       FC Barcelona   4465000.0      202955.0      120000.0      565000.0   \n",
       "1     Real Madrid CF   4456000.0      193739.0       22000.0      565000.0   \n",
       "2   FC Bayern Munich   2969000.0      129087.0        7000.0      355000.0   \n",
       "3    Manchester City   2950000.0       98333.0        5000.0      325000.0   \n",
       "4           Juventus   2931000.0      127435.0       37000.0      275000.0   \n",
       "5            Arsenal   2824000.0       91097.0        6000.0      265000.0   \n",
       "6  Manchester United   2821000.0      112840.0       10000.0      240000.0   \n",
       "7            Chelsea   2766000.0      125727.0        4000.0      295000.0   \n",
       "8            Everton   2320000.0       77333.0        6000.0      130000.0   \n",
       "9          Liverpool   2076000.0       90261.0       11000.0      205000.0   \n",
       "\n",
       "     Std Dev  Player Count  \n",
       "0  118448.89            22  \n",
       "1  132784.59            23  \n",
       "2   93907.07            23  \n",
       "3   85771.68            30  \n",
       "4   58542.78            23  \n",
       "5   70181.36            31  \n",
       "6   66385.04            25  \n",
       "7   82604.15            22  \n",
       "8   41359.93            30  \n",
       "9   54631.17            23  "
      ]
     },
     "execution_count": 611,
     "metadata": {},
     "output_type": "execute_result"
    }
   ],
   "source": [
    "# Teams spending most on player wages\n",
    "club_wage = fifa18.groupby('Club').agg({'Wage' : ['sum', 'mean', 'min', 'max', 'std', 'count']}).reset_index()\n",
    "club_wage.columns = ['Club', 'Total_Wage', 'Average_Wage', 'Minimum Wage', 'Maximum Wage', 'Std Dev', 'Player Count']\n",
    "club_wage = club_wage.round({'Total_Wage' : 0, 'Average_Wage' : 0, 'Std Dev' : 2})\n",
    "club_wage_tw = club_wage.sort_values(by = ['Total_Wage'], ascending = False).reset_index().drop(['index'], axis = 1).head(10)\n",
    "club_wage_tw"
   ]
  },
  {
   "cell_type": "code",
   "execution_count": 612,
   "metadata": {},
   "outputs": [
    {
     "data": {
      "text/html": [
       "<div>\n",
       "<style scoped>\n",
       "    .dataframe tbody tr th:only-of-type {\n",
       "        vertical-align: middle;\n",
       "    }\n",
       "\n",
       "    .dataframe tbody tr th {\n",
       "        vertical-align: top;\n",
       "    }\n",
       "\n",
       "    .dataframe thead th {\n",
       "        text-align: right;\n",
       "    }\n",
       "</style>\n",
       "<table border=\"1\" class=\"dataframe\">\n",
       "  <thead>\n",
       "    <tr style=\"text-align: right;\">\n",
       "      <th></th>\n",
       "      <th>Club</th>\n",
       "      <th>Total_Wage</th>\n",
       "      <th>Average_Wage</th>\n",
       "      <th>Minimum Wage</th>\n",
       "      <th>Maximum Wage</th>\n",
       "      <th>Std Dev</th>\n",
       "      <th>Player Count</th>\n",
       "    </tr>\n",
       "  </thead>\n",
       "  <tbody>\n",
       "    <tr>\n",
       "      <th>0</th>\n",
       "      <td>FC Barcelona</td>\n",
       "      <td>4465000.0</td>\n",
       "      <td>202955.0</td>\n",
       "      <td>120000.0</td>\n",
       "      <td>565000.0</td>\n",
       "      <td>118448.89</td>\n",
       "      <td>22</td>\n",
       "    </tr>\n",
       "    <tr>\n",
       "      <th>1</th>\n",
       "      <td>Real Madrid CF</td>\n",
       "      <td>4456000.0</td>\n",
       "      <td>193739.0</td>\n",
       "      <td>22000.0</td>\n",
       "      <td>565000.0</td>\n",
       "      <td>132784.59</td>\n",
       "      <td>23</td>\n",
       "    </tr>\n",
       "    <tr>\n",
       "      <th>2</th>\n",
       "      <td>FC Bayern Munich</td>\n",
       "      <td>2969000.0</td>\n",
       "      <td>129087.0</td>\n",
       "      <td>7000.0</td>\n",
       "      <td>355000.0</td>\n",
       "      <td>93907.07</td>\n",
       "      <td>23</td>\n",
       "    </tr>\n",
       "    <tr>\n",
       "      <th>3</th>\n",
       "      <td>Juventus</td>\n",
       "      <td>2931000.0</td>\n",
       "      <td>127435.0</td>\n",
       "      <td>37000.0</td>\n",
       "      <td>275000.0</td>\n",
       "      <td>58542.78</td>\n",
       "      <td>23</td>\n",
       "    </tr>\n",
       "    <tr>\n",
       "      <th>4</th>\n",
       "      <td>Chelsea</td>\n",
       "      <td>2766000.0</td>\n",
       "      <td>125727.0</td>\n",
       "      <td>4000.0</td>\n",
       "      <td>295000.0</td>\n",
       "      <td>82604.15</td>\n",
       "      <td>22</td>\n",
       "    </tr>\n",
       "    <tr>\n",
       "      <th>5</th>\n",
       "      <td>Manchester United</td>\n",
       "      <td>2821000.0</td>\n",
       "      <td>112840.0</td>\n",
       "      <td>10000.0</td>\n",
       "      <td>240000.0</td>\n",
       "      <td>66385.04</td>\n",
       "      <td>25</td>\n",
       "    </tr>\n",
       "    <tr>\n",
       "      <th>6</th>\n",
       "      <td>Manchester City</td>\n",
       "      <td>2950000.0</td>\n",
       "      <td>98333.0</td>\n",
       "      <td>5000.0</td>\n",
       "      <td>325000.0</td>\n",
       "      <td>85771.68</td>\n",
       "      <td>30</td>\n",
       "    </tr>\n",
       "    <tr>\n",
       "      <th>7</th>\n",
       "      <td>Arsenal</td>\n",
       "      <td>2824000.0</td>\n",
       "      <td>91097.0</td>\n",
       "      <td>6000.0</td>\n",
       "      <td>265000.0</td>\n",
       "      <td>70181.36</td>\n",
       "      <td>31</td>\n",
       "    </tr>\n",
       "    <tr>\n",
       "      <th>8</th>\n",
       "      <td>Liverpool</td>\n",
       "      <td>2076000.0</td>\n",
       "      <td>90261.0</td>\n",
       "      <td>11000.0</td>\n",
       "      <td>205000.0</td>\n",
       "      <td>54631.17</td>\n",
       "      <td>23</td>\n",
       "    </tr>\n",
       "    <tr>\n",
       "      <th>9</th>\n",
       "      <td>Paris Saint-Germain</td>\n",
       "      <td>2067000.0</td>\n",
       "      <td>82680.0</td>\n",
       "      <td>6000.0</td>\n",
       "      <td>280000.0</td>\n",
       "      <td>63411.83</td>\n",
       "      <td>25</td>\n",
       "    </tr>\n",
       "  </tbody>\n",
       "</table>\n",
       "</div>"
      ],
      "text/plain": [
       "                  Club  Total_Wage  Average_Wage  Minimum Wage  Maximum Wage  \\\n",
       "0         FC Barcelona   4465000.0      202955.0      120000.0      565000.0   \n",
       "1       Real Madrid CF   4456000.0      193739.0       22000.0      565000.0   \n",
       "2     FC Bayern Munich   2969000.0      129087.0        7000.0      355000.0   \n",
       "3             Juventus   2931000.0      127435.0       37000.0      275000.0   \n",
       "4              Chelsea   2766000.0      125727.0        4000.0      295000.0   \n",
       "5    Manchester United   2821000.0      112840.0       10000.0      240000.0   \n",
       "6      Manchester City   2950000.0       98333.0        5000.0      325000.0   \n",
       "7              Arsenal   2824000.0       91097.0        6000.0      265000.0   \n",
       "8            Liverpool   2076000.0       90261.0       11000.0      205000.0   \n",
       "9  Paris Saint-Germain   2067000.0       82680.0        6000.0      280000.0   \n",
       "\n",
       "     Std Dev  Player Count  \n",
       "0  118448.89            22  \n",
       "1  132784.59            23  \n",
       "2   93907.07            23  \n",
       "3   58542.78            23  \n",
       "4   82604.15            22  \n",
       "5   66385.04            25  \n",
       "6   85771.68            30  \n",
       "7   70181.36            31  \n",
       "8   54631.17            23  \n",
       "9   63411.83            25  "
      ]
     },
     "execution_count": 612,
     "metadata": {},
     "output_type": "execute_result"
    }
   ],
   "source": [
    "# Teams ranked on basis of highest average wages\n",
    "club_wage_aw = club_wage.sort_values(by = ['Average_Wage'], ascending = False).reset_index().drop(['index'], axis = 1).head(10)\n",
    "club_wage_aw"
   ]
  },
  {
   "cell_type": "code",
   "execution_count": 613,
   "metadata": {},
   "outputs": [
    {
     "data": {
      "text/html": [
       "<div>\n",
       "<style scoped>\n",
       "    .dataframe tbody tr th:only-of-type {\n",
       "        vertical-align: middle;\n",
       "    }\n",
       "\n",
       "    .dataframe tbody tr th {\n",
       "        vertical-align: top;\n",
       "    }\n",
       "\n",
       "    .dataframe thead th {\n",
       "        text-align: right;\n",
       "    }\n",
       "</style>\n",
       "<table border=\"1\" class=\"dataframe\">\n",
       "  <thead>\n",
       "    <tr style=\"text-align: right;\">\n",
       "      <th></th>\n",
       "      <th>Playing Position</th>\n",
       "      <th>Average_Wage</th>\n",
       "      <th>Total_Wage</th>\n",
       "      <th>Minimum Wage</th>\n",
       "      <th>Maximum Wage</th>\n",
       "      <th>Player Count</th>\n",
       "    </tr>\n",
       "  </thead>\n",
       "  <tbody>\n",
       "    <tr>\n",
       "      <th>0</th>\n",
       "      <td>AT</td>\n",
       "      <td>14033.0</td>\n",
       "      <td>44654000.0</td>\n",
       "      <td>1000.0</td>\n",
       "      <td>565000.0</td>\n",
       "      <td>3182</td>\n",
       "    </tr>\n",
       "    <tr>\n",
       "      <th>1</th>\n",
       "      <td>MF</td>\n",
       "      <td>11943.0</td>\n",
       "      <td>81018000.0</td>\n",
       "      <td>1000.0</td>\n",
       "      <td>340000.0</td>\n",
       "      <td>6784</td>\n",
       "    </tr>\n",
       "    <tr>\n",
       "      <th>2</th>\n",
       "      <td>DF</td>\n",
       "      <td>11062.0</td>\n",
       "      <td>57325000.0</td>\n",
       "      <td>1000.0</td>\n",
       "      <td>310000.0</td>\n",
       "      <td>5182</td>\n",
       "    </tr>\n",
       "  </tbody>\n",
       "</table>\n",
       "</div>"
      ],
      "text/plain": [
       "  Playing Position  Average_Wage  Total_Wage  Minimum Wage  Maximum Wage  \\\n",
       "0               AT       14033.0  44654000.0        1000.0      565000.0   \n",
       "1               MF       11943.0  81018000.0        1000.0      340000.0   \n",
       "2               DF       11062.0  57325000.0        1000.0      310000.0   \n",
       "\n",
       "   Player Count  \n",
       "0          3182  \n",
       "1          6784  \n",
       "2          5182  "
      ]
     },
     "execution_count": 613,
     "metadata": {},
     "output_type": "execute_result"
    }
   ],
   "source": [
    "# Wage distribution by position\n",
    "club_wage_pp = fifa18.groupby(['Playing Position']).agg({'Wage' : ['mean', 'sum', 'min', 'max', 'count']}).reset_index()\n",
    "club_wage_pp.columns = ['Playing Position', 'Average_Wage', 'Total_Wage', 'Minimum Wage', 'Maximum Wage', 'Player Count']\n",
    "club_wage_pp = club_wage_pp.round({'Total_Wage' : 0, 'Average_Wage' : 0})\n",
    "club_wage_pp.sort_values(by = ['Average_Wage'], ascending = False).reset_index().drop(['index'], axis = 1).head(10)"
   ]
  },
  {
   "cell_type": "code",
   "execution_count": 614,
   "metadata": {},
   "outputs": [
    {
     "data": {
      "image/png": "[encoded data removed]",
      "text/plain": [
       "<Figure size 1080x1296 with 30 Axes>"
      ]
     },
     "metadata": {},
     "output_type": "display_data"
    }
   ],
   "source": [
    "# Distribution of all numeric predictor variables\n",
    "fifa18[['Acceleration', 'Aggression', 'Agility', 'Balance', 'Ball control', 'Composure',\n",
    "       'Crossing', 'Curve', 'Dribbling', 'Finishing', 'Free kick accuracy',\n",
    "       'Heading accuracy', 'Interceptions', 'Jumping', 'Long passing',\n",
    "       'Long shots', 'Marking', 'Penalties', 'Positioning', 'Reactions',\n",
    "       'Short passing', 'Shot power', 'Sliding tackle', 'Sprint speed',\n",
    "       'Stamina', 'Standing tackle', 'Strength', 'Vision', 'Volleys']].hist(grid = False, figsize = (15,18), layout = (6, 5), color = 'cornflowerblue', zorder = 2, rwidth = 0.9);"
   ]
  },
  {
   "cell_type": "code",
   "execution_count": 615,
   "metadata": {},
   "outputs": [
    {
     "data": {
      "image/png": "[encoded data removed]",
      "text/plain": [
       "<Figure size 720x720 with 2 Axes>"
      ]
     },
     "metadata": {},
     "output_type": "display_data"
    }
   ],
   "source": [
    "# Correlation matrix for numeric predictors\n",
    "fifa18_corr = fifa18[['Acceleration', 'Aggression', 'Agility', 'Balance', 'Ball control', 'Composure',\n",
    "                        'Crossing', 'Curve', 'Dribbling', 'Finishing', 'Free kick accuracy',\n",
    "                        'Heading accuracy', 'Interceptions', 'Jumping', 'Long passing',\n",
    "                        'Long shots', 'Marking', 'Penalties', 'Positioning', 'Reactions',\n",
    "                        'Short passing', 'Shot power', 'Sliding tackle', 'Sprint speed',\n",
    "                        'Stamina', 'Standing tackle', 'Strength', 'Vision', 'Volleys']].corr()\n",
    "\n",
    "# Generate a mask for the upper triangle\n",
    "mask = np.triu(np.ones_like(fifa18_corr, dtype=np.bool))\n",
    "\n",
    "# Set up the matplotlib figure\n",
    "f, ax = plt.subplots(figsize=(10, 10))\n",
    "\n",
    "# Generate a custom diverging colormap\n",
    "cmap = sns.diverging_palette(220, 10, as_cmap=True)\n",
    "\n",
    "# Draw the heatmap with the mask and correct aspect ratio\n",
    "sns.heatmap(fifa18_corr, mask=mask, cmap=cmap, vmax=.3, center=0,\n",
    "            square=True, linewidths=.5, cbar_kws={\"shrink\": .5});"
   ]
  },
  {
   "cell_type": "code",
   "execution_count": 626,
   "metadata": {},
   "outputs": [
    {
     "name": "stdout",
     "output_type": "stream",
     "text": [
      "(10603, 32) (10603, 1)\n",
      "(4545, 32) (4545, 1)\n"
     ]
    }
   ],
   "source": [
    "# Creating predictor and target variables\n",
    "fifa18_subset = fifa18[['Playing Position', 'Wage', 'Age', 'Acceleration', 'Aggression', 'Agility', 'Balance', 'Ball control', 'Composure',\n",
    "                        'Crossing', 'Curve', 'Dribbling', 'Finishing', 'Free kick accuracy',\n",
    "                        'Heading accuracy', 'Interceptions', 'Jumping', 'Long passing',\n",
    "                        'Long shots', 'Marking', 'Penalties', 'Positioning', 'Reactions',\n",
    "                        'Short passing', 'Shot power', 'Sliding tackle', 'Sprint speed',\n",
    "                        'Stamina', 'Standing tackle', 'Strength', 'Vision', 'Volleys']]\n",
    "\n",
    "fifa18_pred = pd.get_dummies(fifa18_subset, columns = ['Playing Position'], drop_first=True).drop(['Wage'], axis = 1)\n",
    "fifa18_target = fifa18_subset[['Wage']]\n",
    "\n",
    "# Splitting data into training and testing sets\n",
    "X_train, X_test, y_train, y_test = train_test_split(fifa18_pred, fifa18_target, test_size = 0.3, random_state = 8908)\n",
    "\n",
    "print(X_train.shape, y_train.shape)\n",
    "print(X_test.shape, y_test.shape)"
   ]
  },
  {
   "cell_type": "code",
   "execution_count": 617,
   "metadata": {},
   "outputs": [
    {
     "name": "stdout",
     "output_type": "stream",
     "text": [
      "Mean squared error: 418756793.28\n",
      "Coefficient of determination: 0.32\n"
     ]
    }
   ],
   "source": [
    "# Linear Regression - all predictor variables\n",
    "\n",
    "from sklearn.linear_model import LinearRegression\n",
    "from sklearn.metrics import mean_squared_error, r2_score\n",
    "\n",
    "wage_lr_all = LinearRegression(fit_intercept = True)\n",
    "wage_lr_all = wage_lr_all.fit(X_train, y_train)\n",
    "\n",
    "# Make predictions using the testing set\n",
    "y_pred_lr_all = wage_lr_all.predict(X_test)\n",
    "\n",
    "# The coefficients\n",
    "# print('Coefficients: \\n', wage_lr_all.coef_)\n",
    "# The mean squared error\n",
    "print('Mean squared error: %.2f' % mean_squared_error(y_test, y_pred_lr_all))\n",
    "# The coefficient of determination: 1 is perfect prediction\n",
    "print('Coefficient of determination: %.2f' % r2_score(y_test, y_pred_lr_all))"
   ]
  },
  {
   "cell_type": "code",
   "execution_count": 618,
   "metadata": {},
   "outputs": [
    {
     "name": "stdout",
     "output_type": "stream",
     "text": [
      "Optimum number of features: 29\n",
      "Score with 29 features: 0.396846\n"
     ]
    }
   ],
   "source": [
    "from sklearn.feature_selection import RFE\n",
    "#no of features\n",
    "nof_list=np.arange(1,30)            \n",
    "high_score=0\n",
    "#Variable to store the optimum features\n",
    "nof=0           \n",
    "score_list =[]\n",
    "for n in range(len(nof_list)):\n",
    "    X_train, X_test, y_train, y_test = train_test_split(X,y, test_size = 0.3, random_state = 0)\n",
    "    model = LinearRegression()\n",
    "    rfe = RFE(model,nof_list[n])\n",
    "    X_train_rfe = rfe.fit_transform(X_train,y_train)\n",
    "    X_test_rfe = rfe.transform(X_test)\n",
    "    model.fit(X_train_rfe,y_train)\n",
    "    score = model.score(X_test_rfe,y_test)\n",
    "    score_list.append(score)\n",
    "    if(score>high_score):\n",
    "        high_score = score\n",
    "        nof = nof_list[n]\n",
    "print(\"Optimum number of features: %d\" %nof)\n",
    "print(\"Score with %d features: %f\" % (nof, high_score))"
   ]
  },
  {
   "cell_type": "code",
   "execution_count": 636,
   "metadata": {},
   "outputs": [
    {
     "data": {
      "text/plain": [
       "DecisionTreeRegressor(criterion='mse', max_depth=None, max_features=None,\n",
       "                      max_leaf_nodes=None, min_impurity_decrease=0.0,\n",
       "                      min_impurity_split=None, min_samples_leaf=1,\n",
       "                      min_samples_split=2, min_weight_fraction_leaf=0.0,\n",
       "                      presort=False, random_state=None, splitter='best')"
      ]
     },
     "execution_count": 636,
     "metadata": {},
     "output_type": "execute_result"
    }
   ],
   "source": [
    "# Decision Tree\n",
    "from sklearn.tree import DecisionTreeRegressor\n",
    "\n",
    "wage_rt = DecisionTreeRegressor()\n",
    "wage_tree = wage_rt.fit(X_train, y_train)\n",
    "wage_tree"
   ]
  },
  {
   "cell_type": "code",
   "execution_count": 637,
   "metadata": {},
   "outputs": [
    {
     "name": "stdout",
     "output_type": "stream",
     "text": [
      "0.9985703250905897\n",
      "0.45197240168114555\n"
     ]
    }
   ],
   "source": [
    "print(wage_tree.score(X_train, y_train))\n",
    "print(wage_tree.score(X_test, y_test))"
   ]
  },
  {
   "cell_type": "code",
   "execution_count": 638,
   "metadata": {},
   "outputs": [
    {
     "data": {
      "text/plain": [
       "RandomForestRegressor(bootstrap=True, criterion='mse', max_depth=None,\n",
       "                      max_features='auto', max_leaf_nodes=None,\n",
       "                      min_impurity_decrease=0.0, min_impurity_split=None,\n",
       "                      min_samples_leaf=1, min_samples_split=2,\n",
       "                      min_weight_fraction_leaf=0.0, n_estimators=10,\n",
       "                      n_jobs=None, oob_score=False, random_state=1000,\n",
       "                      verbose=0, warm_start=False)"
      ]
     },
     "execution_count": 638,
     "metadata": {},
     "output_type": "execute_result"
    }
   ],
   "source": [
    "from sklearn.ensemble import RandomForestRegressor\n",
    "\n",
    "wage_rf = RandomForestRegressor(random_state = 1000)\n",
    "\n",
    "# Train the model using the training sets\n",
    "wage_rf.fit(X_train, y_train)"
   ]
  },
  {
   "cell_type": "code",
   "execution_count": 639,
   "metadata": {},
   "outputs": [
    {
     "name": "stdout",
     "output_type": "stream",
     "text": [
      "Mean squared error: 193214051.44\n",
      "Coefficient of determination: 0.69\n"
     ]
    }
   ],
   "source": [
    "# Make predictions using the testing set\n",
    "wage_rf_pred = wage_rf.predict(X_test);\n",
    "\n",
    "# The mean squared error\n",
    "print('Mean squared error: %.2f' % mean_squared_error(y_test, wage_rf_pred))\n",
    "# The coefficient of determination: 1 is perfect prediction\n",
    "print('Coefficient of determination: %.2f' % r2_score(y_test, wage_rf_pred))"
   ]
  },
  {
   "cell_type": "code",
   "execution_count": 641,
   "metadata": {},
   "outputs": [
    {
     "name": "stdout",
     "output_type": "stream",
     "text": [
      "Variable: Reactions            Importance: 0.4884334165748541\n",
      "Variable: Ball control         Importance: 0.09751712137959587\n",
      "Variable: Finishing            Importance: 0.06094041239257547\n",
      "Variable: Standing tackle      Importance: 0.042122817676251416\n",
      "Variable: Sliding tackle       Importance: 0.03392313453181015\n",
      "Variable: Long shots           Importance: 0.018386897017754675\n",
      "Variable: Marking              Importance: 0.01676543422595265\n",
      "Variable: Positioning          Importance: 0.01671314227107603\n",
      "Variable: Short passing        Importance: 0.016534247592376268\n",
      "Variable: Interceptions        Importance: 0.016127324795228735\n",
      "Variable: Free kick accuracy   Importance: 0.013700472647647682\n",
      "Variable: Heading accuracy     Importance: 0.012932562348019597\n",
      "Variable: Jumping              Importance: 0.012565267810792948\n",
      "Variable: Long passing         Importance: 0.011389563292201987\n",
      "Variable: Dribbling            Importance: 0.01104501938101302\n",
      "Variable: Aggression           Importance: 0.010482503647287984\n",
      "Variable: Strength             Importance: 0.010178770142652371\n",
      "Variable: Shot power           Importance: 0.010140809485758729\n",
      "Variable: Volleys              Importance: 0.01011049229495758\n",
      "Variable: Sprint speed         Importance: 0.009916702984090751\n",
      "Variable: Composure            Importance: 0.009473371198751905\n",
      "Variable: Crossing             Importance: 0.009093515636002485\n",
      "Variable: Balance              Importance: 0.008745532506831183\n",
      "Variable: Stamina              Importance: 0.008594633928164726\n",
      "Variable: Acceleration         Importance: 0.008468980695483744\n",
      "Variable: Age                  Importance: 0.0076277551135723026\n",
      "Variable: Curve                Importance: 0.0069681515665396794\n",
      "Variable: Vision               Importance: 0.006635827459333818\n",
      "Variable: Penalties            Importance: 0.006537652892484877\n",
      "Variable: Agility              Importance: 0.0065298701061602075\n",
      "Variable: Playing Position_MF  Importance: 0.0007287381622804638\n",
      "Variable: Playing Position_DF  Importance: 0.0006698582424965718\n"
     ]
    }
   ],
   "source": [
    "# Get numerical feature importances\n",
    "importance = list(wage_rf.feature_importances_)\n",
    "# List of tuples with variable and importance\n",
    "feature_importance_data = [(feature, importance) for feature, importance in zip(list(X_train.columns), importance)]\n",
    "# Sort the feature importances by most important first\n",
    "feature_importance_data = sorted(feature_importance_data, key = lambda x: x[1], reverse = True)\n",
    "# Print out the feature and importances \n",
    "[print('Variable: {:20} Importance: {}'.format(*pair)) for pair in feature_importance_data];"
   ]
  },
  {
   "cell_type": "code",
   "execution_count": 635,
   "metadata": {},
   "outputs": [
    {
     "name": "stdout",
     "output_type": "stream",
     "text": [
      "(3627, 30) (3627, 1)\n",
      "(1555, 30) (1555, 1)\n"
     ]
    }
   ],
   "source": [
    "# Defender wage analysis\n",
    "\n",
    "fifa18_df = fifa18_subset.loc[fifa18_subset['Playing Position'] == 'DF'].reset_index()\n",
    "\n",
    "fifa18_df_pred = fifa18_df.drop(['Playing Position', 'Wage', 'index'], axis = 1)\n",
    "fifa18_df_target = fifa18_df[['Wage']]\n",
    "\n",
    "# Splitting data into training and testing sets\n",
    "X_df_train, X_df_test, y_df_train, y_df_test = train_test_split(fifa18_df_pred, fifa18_df_target, test_size = 0.3, random_state = 8908)\n",
    "\n",
    "print(X_df_train.shape, y_df_train.shape)\n",
    "print(X_df_test.shape, y_df_test.shape)"
   ]
  },
  {
   "cell_type": "code",
   "execution_count": 659,
   "metadata": {},
   "outputs": [
    {
     "name": "stdout",
     "output_type": "stream",
     "text": [
      "Mean squared error: 118966251.48\n",
      "Coefficient of determination: 0.71\n",
      "Variable: Standing tackle      Importance: 0.4168717998733599\n",
      "Variable: Sliding tackle       Importance: 0.14737623780121728\n",
      "Variable: Reactions            Importance: 0.04518640598607339\n",
      "Variable: Composure            Importance: 0.040702681222811454\n",
      "Variable: Short passing        Importance: 0.031970941482187126\n",
      "Variable: Dribbling            Importance: 0.030467953082833836\n",
      "Variable: Ball control         Importance: 0.02557875453967753\n",
      "Variable: Interceptions        Importance: 0.02017212962352499\n",
      "Variable: Jumping              Importance: 0.019404718407299338\n",
      "Variable: Aggression           Importance: 0.015391059681139806\n",
      "Variable: Curve                Importance: 0.015374869088895808\n",
      "Variable: Agility              Importance: 0.013876508858930194\n",
      "Variable: Heading accuracy     Importance: 0.013014188196803061\n",
      "Variable: Marking              Importance: 0.01267433100392034\n",
      "Variable: Free kick accuracy   Importance: 0.011253092479909254\n",
      "Variable: Balance              Importance: 0.01124734903493462\n",
      "Variable: Shot power           Importance: 0.011140992343890958\n",
      "Variable: Acceleration         Importance: 0.011098943710780663\n",
      "Variable: Long passing         Importance: 0.01092937428332525\n",
      "Variable: Volleys              Importance: 0.010909462564462239\n",
      "Variable: Penalties            Importance: 0.010164591813207852\n",
      "Variable: Stamina              Importance: 0.009544955804090599\n",
      "Variable: Finishing            Importance: 0.009276009983544968\n",
      "Variable: Sprint speed         Importance: 0.00875874739795438\n",
      "Variable: Crossing             Importance: 0.008245470762134282\n",
      "Variable: Age                  Importance: 0.008233134351651981\n",
      "Variable: Strength             Importance: 0.008133843011699733\n",
      "Variable: Vision               Importance: 0.008073992474126155\n",
      "Variable: Positioning          Importance: 0.007740598390410882\n",
      "Variable: Long shots           Importance: 0.007186862745202255\n"
     ]
    }
   ],
   "source": [
    "# Random Forest model for DF\n",
    "wage_rf_df = RandomForestRegressor(random_state = 1000)\n",
    "\n",
    "# Train the model using the training sets\n",
    "wage_rf_df.fit(X_df_train, y_df_train)\n",
    "\n",
    "# Make predictions using the testing set\n",
    "wage_rf_df_pred = wage_rf_df.predict(X_df_test);\n",
    "\n",
    "# The mean squared error\n",
    "print('Mean squared error: %.2f' % mean_squared_error(y_df_test, wage_rf_df_pred))\n",
    "# The coefficient of determination: 1 is perfect prediction\n",
    "print('Coefficient of determination: %.2f' % r2_score(y_df_test, wage_rf_df_pred))\n",
    "\n",
    "# Get numerical feature importances\n",
    "importance_df = list(wage_rf_df.feature_importances_)\n",
    "# List of tuples with variable and importance\n",
    "feature_importance_df_data = [(feature, importance_df) for feature, importance_df in zip(list(X_df_train.columns), importance_df)]\n",
    "# Sort the feature importances by most important first\n",
    "feature_importance_df_data = sorted(feature_importance_df_data, key = lambda x: x[1], reverse = True)\n",
    "# Print out the feature and importances \n",
    "[print('Variable: {:20} Importance: {}'.format(*pair)) for pair in feature_importance_df_data];"
   ]
  },
  {
   "cell_type": "code",
   "execution_count": 664,
   "metadata": {},
   "outputs": [
    {
     "name": "stdout",
     "output_type": "stream",
     "text": [
      "(4748, 30) (4748, 1)\n",
      "(2036, 30) (2036, 1)\n"
     ]
    }
   ],
   "source": [
    "# Midfielder wage analysis\n",
    "\n",
    "fifa18_mf = fifa18_subset.loc[fifa18_subset['Playing Position'] == 'MF'].reset_index()\n",
    "\n",
    "fifa18_mf_pred = fifa18_mf.drop(['Playing Position', 'Wage', 'index'], axis = 1)\n",
    "fifa18_mf_target = fifa18_mf[['Wage']]\n",
    "\n",
    "# Splitting data into training and testing sets\n",
    "X_mf_train, X_mf_test, y_mf_train, y_mf_test = train_test_split(fifa18_mf_pred, fifa18_mf_target, test_size = 0.3, random_state = 7999)\n",
    "\n",
    "print(X_mf_train.shape, y_mf_train.shape)\n",
    "print(X_mf_test.shape, y_mf_test.shape)"
   ]
  },
  {
   "cell_type": "code",
   "execution_count": 665,
   "metadata": {},
   "outputs": [
    {
     "name": "stdout",
     "output_type": "stream",
     "text": [
      "Mean squared error: 168380434.25\n",
      "Coefficient of determination: 0.67\n",
      "Variable: Ball control         Importance: 0.34957899698787165\n",
      "Variable: Short passing        Importance: 0.17848523838666605\n",
      "Variable: Reactions            Importance: 0.07648854704557953\n",
      "Variable: Positioning          Importance: 0.04850210498901963\n",
      "Variable: Vision               Importance: 0.03085354365386022\n",
      "Variable: Sliding tackle       Importance: 0.028300888219044525\n",
      "Variable: Interceptions        Importance: 0.02401399199917252\n",
      "Variable: Dribbling            Importance: 0.019686126029752612\n",
      "Variable: Standing tackle      Importance: 0.017912831366371576\n",
      "Variable: Marking              Importance: 0.017203738779781094\n",
      "Variable: Shot power           Importance: 0.017186294468752916\n",
      "Variable: Heading accuracy     Importance: 0.013565874295170173\n",
      "Variable: Jumping              Importance: 0.012538637568646814\n",
      "Variable: Volleys              Importance: 0.012314567852267429\n",
      "Variable: Composure            Importance: 0.012266559119344751\n",
      "Variable: Long shots           Importance: 0.011797792163084981\n",
      "Variable: Agility              Importance: 0.011637670208285818\n",
      "Variable: Stamina              Importance: 0.011158400274524343\n",
      "Variable: Sprint speed         Importance: 0.010953333995852497\n",
      "Variable: Finishing            Importance: 0.01094246508546773\n",
      "Variable: Strength             Importance: 0.01083587951394337\n",
      "Variable: Free kick accuracy   Importance: 0.01039154289531195\n",
      "Variable: Aggression           Importance: 0.00961412775069784\n",
      "Variable: Long passing         Importance: 0.008844075121285789\n",
      "Variable: Age                  Importance: 0.00807701451043911\n",
      "Variable: Crossing             Importance: 0.00765720124995714\n",
      "Variable: Acceleration         Importance: 0.007583476217656064\n",
      "Variable: Penalties            Importance: 0.00741574286456759\n",
      "Variable: Curve                Importance: 0.007297641259951515\n",
      "Variable: Balance              Importance: 0.0068956961276728825\n"
     ]
    }
   ],
   "source": [
    "# Random Forest model for MF\n",
    "wage_rf_mf = RandomForestRegressor(random_state = 1000)\n",
    "\n",
    "# Train the model using the training sets\n",
    "wage_rf_mf.fit(X_mf_train, y_mf_train)\n",
    "\n",
    "# Make predictions using the testing set\n",
    "wage_rf_mf_pred = wage_rf_mf.predict(X_mf_test);\n",
    "\n",
    "# The mean squared error\n",
    "print('Mean squared error: %.2f' % mean_squared_error(y_mf_test, wage_rf_mf_pred))\n",
    "# The coefficient of determination: 1 is perfect prediction\n",
    "print('Coefficient of determination: %.2f' % r2_score(y_mf_test, wage_rf_mf_pred))\n",
    "\n",
    "# Get numerical feature importances\n",
    "importance_mf = list(wage_rf_mf.feature_importances_)\n",
    "# List of tuples with variable and importance\n",
    "feature_importance_mf_data = [(feature, importance_mf) for feature, importance_mf in zip(list(X_mf_train.columns), importance_mf)]\n",
    "# Sort the feature importances by most important first\n",
    "feature_importance_mf_data = sorted(feature_importance_mf_data, key = lambda x: x[1], reverse = True)\n",
    "# Print out the feature and importances \n",
    "[print('Variable: {:20} Importance: {}'.format(*pair)) for pair in feature_importance_mf_data];"
   ]
  },
  {
   "cell_type": "code",
   "execution_count": 674,
   "metadata": {},
   "outputs": [
    {
     "name": "stdout",
     "output_type": "stream",
     "text": [
      "(2227, 30) (2227, 1)\n",
      "(955, 30) (955, 1)\n"
     ]
    }
   ],
   "source": [
    "# Attacker wage analysis\n",
    "\n",
    "fifa18_at = fifa18_subset.loc[fifa18_subset['Playing Position'] == 'AT'].reset_index()\n",
    "\n",
    "fifa18_at_pred = fifa18_at.drop(['Playing Position', 'Wage', 'index'], axis = 1)\n",
    "fifa18_at_target = fifa18_at[['Wage']]\n",
    "\n",
    "# Splitting data into training and testing sets\n",
    "X_at_train, X_at_test, y_at_train, y_at_test = train_test_split(fifa18_at_pred, fifa18_at_target, test_size = 0.3, random_state = 9018)\n",
    "\n",
    "print(X_at_train.shape, y_at_train.shape)\n",
    "print(X_at_test.shape, y_at_test.shape)"
   ]
  },
  {
   "cell_type": "code",
   "execution_count": 675,
   "metadata": {},
   "outputs": [
    {
     "name": "stdout",
     "output_type": "stream",
     "text": [
      "Mean squared error: 378791382.85\n",
      "Coefficient of determination: 0.71\n",
      "Variable: Reactions            Importance: 0.2595148560898671\n",
      "Variable: Positioning          Importance: 0.16026863879364636\n",
      "Variable: Finishing            Importance: 0.15316744708861713\n",
      "Variable: Ball control         Importance: 0.11048643737120123\n",
      "Variable: Shot power           Importance: 0.04080588953664394\n",
      "Variable: Long shots           Importance: 0.03372654052696259\n",
      "Variable: Vision               Importance: 0.028579772867740397\n",
      "Variable: Short passing        Importance: 0.02202920282108918\n",
      "Variable: Free kick accuracy   Importance: 0.021918530352597745\n",
      "Variable: Dribbling            Importance: 0.017360683968335597\n",
      "Variable: Acceleration         Importance: 0.014353213393372057\n",
      "Variable: Sliding tackle       Importance: 0.01344925996367819\n",
      "Variable: Sprint speed         Importance: 0.011505065634684404\n",
      "Variable: Curve                Importance: 0.010210482659156405\n",
      "Variable: Jumping              Importance: 0.009049326983659536\n",
      "Variable: Penalties            Importance: 0.008093416573978818\n",
      "Variable: Stamina              Importance: 0.00789800337228036\n",
      "Variable: Marking              Importance: 0.007505710471640538\n",
      "Variable: Agility              Importance: 0.0073914773605162866\n",
      "Variable: Strength             Importance: 0.007246469599098963\n",
      "Variable: Age                  Importance: 0.0070602280162461685\n",
      "Variable: Volleys              Importance: 0.006863091735977036\n",
      "Variable: Aggression           Importance: 0.006361403965209372\n",
      "Variable: Crossing             Importance: 0.006183856108791629\n",
      "Variable: Standing tackle      Importance: 0.005712820262975181\n",
      "Variable: Heading accuracy     Importance: 0.005403206423122748\n",
      "Variable: Balance              Importance: 0.005248120625766854\n",
      "Variable: Composure            Importance: 0.005067327995586948\n",
      "Variable: Interceptions        Importance: 0.004881166362218256\n",
      "Variable: Long passing         Importance: 0.002658353075338913\n"
     ]
    }
   ],
   "source": [
    "# Random Forest model for AT\n",
    "wage_rf_at = RandomForestRegressor(random_state = 1000)\n",
    "\n",
    "# Train the model using the training sets\n",
    "wage_rf_at.fit(X_at_train, y_at_train)\n",
    "\n",
    "# Make predictions using the testing set\n",
    "wage_rf_at_pred = wage_rf_at.predict(X_at_test);\n",
    "\n",
    "# The mean squared error\n",
    "print('Mean squared error: %.2f' % mean_squared_error(y_at_test, wage_rf_at_pred))\n",
    "# The coefficient of determination: 1 is perfect prediction\n",
    "print('Coefficient of determination: %.2f' % r2_score(y_at_test, wage_rf_at_pred))\n",
    "\n",
    "# Get numerical feature importances\n",
    "importance_at = list(wage_rf_at.feature_importances_)\n",
    "# List of tuples with variable and importance\n",
    "feature_importance_at_data = [(feature, importance_at) for feature, importance_at in zip(list(X_at_train.columns), importance_at)]\n",
    "# Sort the feature importances by most important first\n",
    "feature_importance_at_data = sorted(feature_importance_at_data, key = lambda x: x[1], reverse = True)\n",
    "# Print out the feature and importances \n",
    "[print('Variable: {:20} Importance: {}'.format(*pair)) for pair in feature_importance_at_data];"
   ]
  },
  {
   "cell_type": "code",
   "execution_count": 678,
   "metadata": {},
   "outputs": [
    {
     "data": {
      "text/html": [
       "<div>\n",
       "<style scoped>\n",
       "    .dataframe tbody tr th:only-of-type {\n",
       "        vertical-align: middle;\n",
       "    }\n",
       "\n",
       "    .dataframe tbody tr th {\n",
       "        vertical-align: top;\n",
       "    }\n",
       "\n",
       "    .dataframe thead th {\n",
       "        text-align: right;\n",
       "    }\n",
       "</style>\n",
       "<table border=\"1\" class=\"dataframe\">\n",
       "  <thead>\n",
       "    <tr style=\"text-align: right;\">\n",
       "      <th></th>\n",
       "      <th>Defenders</th>\n",
       "      <th>Midfielders</th>\n",
       "      <th>Attackers</th>\n",
       "    </tr>\n",
       "  </thead>\n",
       "  <tbody>\n",
       "    <tr>\n",
       "      <th>0</th>\n",
       "      <td>Standing tackle</td>\n",
       "      <td>Ball control</td>\n",
       "      <td>Reactions</td>\n",
       "    </tr>\n",
       "    <tr>\n",
       "      <th>1</th>\n",
       "      <td>Sliding tackle</td>\n",
       "      <td>Short passing</td>\n",
       "      <td>Positioning</td>\n",
       "    </tr>\n",
       "    <tr>\n",
       "      <th>2</th>\n",
       "      <td>Reactions</td>\n",
       "      <td>Reactions</td>\n",
       "      <td>Finishing</td>\n",
       "    </tr>\n",
       "    <tr>\n",
       "      <th>3</th>\n",
       "      <td>Composure</td>\n",
       "      <td>Positioning</td>\n",
       "      <td>Ball Control</td>\n",
       "    </tr>\n",
       "    <tr>\n",
       "      <th>4</th>\n",
       "      <td>Short passing</td>\n",
       "      <td>Vision</td>\n",
       "      <td>Shot power</td>\n",
       "    </tr>\n",
       "  </tbody>\n",
       "</table>\n",
       "</div>"
      ],
      "text/plain": [
       "         Defenders    Midfielders     Attackers\n",
       "0  Standing tackle   Ball control     Reactions\n",
       "1   Sliding tackle  Short passing   Positioning\n",
       "2        Reactions      Reactions     Finishing\n",
       "3        Composure    Positioning  Ball Control\n",
       "4    Short passing         Vision    Shot power"
      ]
     },
     "execution_count": 678,
     "metadata": {},
     "output_type": "execute_result"
    }
   ],
   "source": [
    "# Top 5 features for Wages by position\n",
    "top_5_features = pd.DataFrame({'Defenders' : ['Standing tackle', 'Sliding tackle', 'Reactions', 'Composure', 'Short passing'],\n",
    "                              'Midfielders' : ['Ball control', 'Short passing', 'Reactions', 'Positioning', 'Vision'],\n",
    "                              'Attackers' : ['Reactions', 'Positioning', 'Finishing', 'Ball Control', 'Shot power']})\n",
    "top_5_features"
   ]
  }
 ],
 "metadata": {
  "kernelspec": {
   "display_name": "Python 3",
   "language": "python",
   "name": "python3"
  },
  "language_info": {
   "codemirror_mode": {
    "name": "ipython",
    "version": 3
   },
   "file_extension": ".py",
   "mimetype": "text/x-python",
   "name": "python",
   "nbconvert_exporter": "python",
   "pygments_lexer": "ipython3",
   "version": "3.7.3"
  }
 },
 "nbformat": 4,
 "nbformat_minor": 4
}
